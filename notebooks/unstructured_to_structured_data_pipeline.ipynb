{
  "cells": [
    {
      "cell_type": "markdown",
      "metadata": {
        "id": "HZ4yqT7jNxmX"
      },
      "source": [
        "# **Install and Import Libraries**"
      ]
    },
    {
      "cell_type": "markdown",
      "metadata": {},
      "source": [
        "> ##### **Add the OpenAI API key in config/secrets.env file as follows:**\n",
        "\n",
        "> ###### **OPENAI_API_KEY = \"<api_key>\"**\n"
      ]
    },
    {
      "cell_type": "code",
      "execution_count": null,
      "metadata": {},
      "outputs": [],
      "source": [
        "%load_ext autoreload\n",
        "%autoreload 2"
      ]
    },
    {
      "cell_type": "code",
      "execution_count": null,
      "metadata": {
        "id": "unywaH2INwbH"
      },
      "outputs": [],
      "source": [
        "import pandas as pd\n",
        "from dotenv import load_dotenv\n",
        "import os\n",
        "\n",
        "# load config\n",
        "load_dotenv(\"../config/config.env\")\n",
        "\n",
        "# load secrets\n",
        "load_dotenv(\"../config/secrets.env\")\n",
        "\n",
        "from data_pipeline import *"
      ]
    },
    {
      "cell_type": "markdown",
      "metadata": {
        "id": "pu8EcDam_3Ep"
      },
      "source": [
        "# **1. Scrape Website**"
      ]
    },
    {
      "cell_type": "code",
      "execution_count": null,
      "metadata": {
        "id": "AlHo5ej5TaUU"
      },
      "outputs": [],
      "source": [
        "df = scrape_website()"
      ]
    },
    {
      "cell_type": "code",
      "execution_count": null,
      "metadata": {},
      "outputs": [],
      "source": [
        "df"
      ]
    },
    {
      "cell_type": "markdown",
      "metadata": {
        "id": "Q6G87msiASLI"
      },
      "source": [
        "# **2. Download all PDFs from links**"
      ]
    },
    {
      "cell_type": "code",
      "execution_count": null,
      "metadata": {
        "id": "qhezoz7hKvK0"
      },
      "outputs": [],
      "source": [
        "df = download_documents()"
      ]
    },
    {
      "cell_type": "code",
      "execution_count": null,
      "metadata": {},
      "outputs": [],
      "source": [
        "df"
      ]
    },
    {
      "cell_type": "markdown",
      "metadata": {
        "id": "fOGZDiTjZ-GY"
      },
      "source": [
        "# **3. Extract HTML from PDFs**"
      ]
    },
    {
      "cell_type": "code",
      "execution_count": null,
      "metadata": {
        "colab": {
          "base_uri": "https://localhost:8080/"
        },
        "id": "U6bmCFGjZ9kK",
        "outputId": "a272e77a-6349-4024-f638-404f0a014c11"
      },
      "outputs": [],
      "source": [
        "convert_pdf_to_html()"
      ]
    },
    {
      "cell_type": "markdown",
      "metadata": {
        "id": "V5oRI3w_NQ4v"
      },
      "source": [
        "# **4. Extract Meeting Metadata from PDF with LLM**"
      ]
    },
    {
      "cell_type": "code",
      "execution_count": null,
      "metadata": {
        "id": "_2W9SWakWzP2"
      },
      "outputs": [],
      "source": [
        "df = extract_meeting_metadata()"
      ]
    },
    {
      "cell_type": "code",
      "execution_count": null,
      "metadata": {},
      "outputs": [],
      "source": [
        "df"
      ]
    },
    {
      "cell_type": "markdown",
      "metadata": {
        "id": "35G0VQUR_Mcw"
      },
      "source": [
        "# **5. Extract Proposals and Decisions**"
      ]
    },
    {
      "cell_type": "markdown",
      "metadata": {},
      "source": [
        "## still not working as expected"
      ]
    },
    {
      "cell_type": "code",
      "execution_count": null,
      "metadata": {},
      "outputs": [],
      "source": [
        "df = extract_meeting_agenda(10)"
      ]
    },
    {
      "cell_type": "markdown",
      "metadata": {},
      "source": [
        "# **6. Export JSON**"
      ]
    },
    {
      "cell_type": "code",
      "execution_count": null,
      "metadata": {},
      "outputs": [],
      "source": [
        "import pandas as pd\n",
        "\n",
        "df = pd.read_csv(\"../data/metadata.csv\", index_col=0)\n",
        "df.fillna(\"\", inplace=True)"
      ]
    },
    {
      "cell_type": "code",
      "execution_count": null,
      "metadata": {},
      "outputs": [],
      "source": [
        "extracted_json_path = os.getenv(\"EXTRACTED_JSON_PATH\")\n",
        "import html\n",
        "import json\n",
        "for index, row in df.iterrows():\n",
        "    # create the path to the save the json files\n",
        "    save_path = os.path.join(extracted_json_path, row['verksamhetsorgan'], row['meeting_date'], row['doc_name'].split(\".\")[0])\n",
        "\n",
        "    if row['meeting_end_time'] != \"\":\n",
        "\n",
        "        # ensure that the path exists\n",
        "        os.makedirs(save_path, exist_ok=True)\n",
        "\n",
        "        # path to save the metadata json file\n",
        "        metadata_save_path = os.path.join(save_path, \"llm_meeting_metadata.json\")\n",
        "\n",
        "        json_data = f'''{{\n",
        "                \"meetingDate\": \"{row['meeting_date']}\",\n",
        "                \"startTime\": \"{row['meeting_time']}\",\n",
        "                \"meetingReference\": \"{row['meeting_reference']}\",\n",
        "                \"endTime\": \"{row['meeting_end_time']}\",\n",
        "                \"meetingPlace\": \"{row['meeting_place']}\",\n",
        "                \"members\": {row['members']},\n",
        "                \"substitutes\": {row['substitutes']},\n",
        "                \"additionalAttendees\": {row['additional_attendees']},\n",
        "                \"protocolSignatories\": {row['protocol_signatories']},\n",
        "                \"adjustedBy\": {row['protocol_adjusters']},\n",
        "                \"adjustmentDate\": \"{row['protocol_adjustment_date']}\",\n",
        "                \"meetingItems\": [] }}''' # meeting items will be added when constructing the aggregate JSON file\n",
        "\n",
        "        json_data = json.dumps(json.loads(json_data), indent=4, ensure_ascii=False)\n",
        "        # save the metadata json file\n",
        "        with open(metadata_save_path, \"w\") as f:\n",
        "            f.write(json_data)\n",
        "            \n",
        "    elif row['agenda_metadata'] != \"\":\n",
        "        # ensure that the path exists\n",
        "        os.makedirs(save_path, exist_ok=True)\n",
        "\n",
        "        # path to save the meeting item json file\n",
        "        item_save_path = os.path.join(save_path, \"llm_meeting_item.json\")\n",
        "\n",
        "        item = json.loads(row['agenda_metadata'])\n",
        "        item['rubrik'] = row['rubrik']\n",
        "        item['section'] = row['section']\n",
        "\n",
        "        # get all the atachments of the row based on parent link\n",
        "        attachments = df[df['parent_link'] == row['doc_link']]\n",
        "\n",
        "        # add the attachments to the item\n",
        "        item['attachments'] = []\n",
        "        for index, attachment in attachments.iterrows():\n",
        "            item['attachments'].append({\n",
        "                \"rubrik\": attachment['rubrik'],\n",
        "                \"link\": attachment['doc_link']\n",
        "            })\n",
        "        # save the meeting item json file\n",
        "        with open(item_save_path, \"w\") as f:\n",
        "            f.write(json.dumps(item, indent=4, ensure_ascii=False))\n"
      ]
    },
    {
      "cell_type": "code",
      "execution_count": null,
      "metadata": {},
      "outputs": [],
      "source": [
        "\n",
        "# sanity check for number of folders created. should correspond to number of meetings with metadata extracted with llm\n",
        "import glob\n",
        "len(glob.glob(extracted_json_path + \"/*/*/*\"))"
      ]
    },
    {
      "cell_type": "code",
      "execution_count": null,
      "metadata": {},
      "outputs": [],
      "source": []
    }
  ],
  "metadata": {
    "colab": {
      "provenance": []
    },
    "kernelspec": {
      "display_name": "Python 3",
      "name": "python3"
    },
    "language_info": {
      "codemirror_mode": {
        "name": "ipython",
        "version": 3
      },
      "file_extension": ".py",
      "mimetype": "text/x-python",
      "name": "python",
      "nbconvert_exporter": "python",
      "pygments_lexer": "ipython3",
      "version": "3.11.4"
    }
  },
  "nbformat": 4,
  "nbformat_minor": 0
}
