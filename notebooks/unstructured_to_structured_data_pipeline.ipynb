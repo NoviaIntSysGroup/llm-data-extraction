{
  "cells": [
    {
      "cell_type": "markdown",
      "metadata": {
        "id": "HZ4yqT7jNxmX"
      },
      "source": [
        "# **Install and Import Libraries**"
      ]
    },
    {
      "cell_type": "markdown",
      "metadata": {},
      "source": [
        "> ##### **create .streamlit/secrets.toml file inside notebooks folder with following lines:**\n",
        "\n",
        "> ###### **OPENAI_API_KEY = \"<api_key>\"**\n"
      ]
    },
    {
      "cell_type": "code",
      "execution_count": null,
      "metadata": {
        "colab": {
          "base_uri": "https://localhost:8080/"
        },
        "id": "5pmbY9PC_2Xy",
        "outputId": "59740c8d-253c-415a-8438-a165ebe29e41"
      },
      "outputs": [],
      "source": [
        "%pip install -r ../requirements.txt"
      ]
    },
    {
      "cell_type": "code",
      "execution_count": null,
      "metadata": {},
      "outputs": [],
      "source": [
        "%load_ext autoreload\n",
        "%autoreload 2"
      ]
    },
    {
      "cell_type": "code",
      "execution_count": null,
      "metadata": {
        "id": "unywaH2INwbH"
      },
      "outputs": [],
      "source": [
        "import pandas as pd\n",
        "\n",
        "import sys\n",
        "sys.path.append('../src')\n",
        "from data_pipeline import *"
      ]
    },
    {
      "cell_type": "markdown",
      "metadata": {
        "id": "pu8EcDam_3Ep"
      },
      "source": [
        "# **1. Scrape Website**"
      ]
    },
    {
      "cell_type": "code",
      "execution_count": null,
      "metadata": {
        "id": "AlHo5ej5TaUU"
      },
      "outputs": [],
      "source": [
        "df = scrape_website()"
      ]
    },
    {
      "cell_type": "code",
      "execution_count": null,
      "metadata": {},
      "outputs": [],
      "source": [
        "df"
      ]
    },
    {
      "cell_type": "markdown",
      "metadata": {
        "id": "Q6G87msiASLI"
      },
      "source": [
        "# **2. Download all PDFs from links**"
      ]
    },
    {
      "cell_type": "code",
      "execution_count": null,
      "metadata": {
        "id": "qhezoz7hKvK0"
      },
      "outputs": [],
      "source": [
        "df = download_documents()"
      ]
    },
    {
      "cell_type": "code",
      "execution_count": null,
      "metadata": {},
      "outputs": [],
      "source": [
        "df"
      ]
    },
    {
      "cell_type": "markdown",
      "metadata": {
        "id": "fOGZDiTjZ-GY"
      },
      "source": [
        "# **4. Extract HTML from PDFs**"
      ]
    },
    {
      "cell_type": "code",
      "execution_count": null,
      "metadata": {
        "colab": {
          "base_uri": "https://localhost:8080/"
        },
        "id": "U6bmCFGjZ9kK",
        "outputId": "a272e77a-6349-4024-f638-404f0a014c11"
      },
      "outputs": [],
      "source": [
        "convert_pdf_to_html()"
      ]
    },
    {
      "cell_type": "markdown",
      "metadata": {
        "id": "V5oRI3w_NQ4v"
      },
      "source": [
        "# **4. Extract Meeting Metadata from PDF with LLM**"
      ]
    },
    {
      "cell_type": "code",
      "execution_count": null,
      "metadata": {
        "id": "_2W9SWakWzP2"
      },
      "outputs": [],
      "source": [
        "df = extract_meeting_metadata()"
      ]
    },
    {
      "cell_type": "code",
      "execution_count": null,
      "metadata": {},
      "outputs": [],
      "source": [
        "df"
      ]
    },
    {
      "cell_type": "markdown",
      "metadata": {
        "id": "35G0VQUR_Mcw"
      },
      "source": [
        "# **5. Extract Proposals and Decisions**"
      ]
    },
    {
      "cell_type": "markdown",
      "metadata": {},
      "source": [
        "### still experimenting"
      ]
    },
    {
      "cell_type": "code",
      "execution_count": null,
      "metadata": {},
      "outputs": [],
      "source": [
        "df = pd.read_csv('../data/metadata.csv', index_col=0)\n",
        "df"
      ]
    },
    {
      "cell_type": "code",
      "execution_count": null,
      "metadata": {
        "id": "kVjUrjkSK8IS"
      },
      "outputs": [],
      "source": [
        "non_agenda_titles = [\n",
        "    'Sammanträdets laglighet och beslutsförhet',\n",
        "    'Godkännande av föredragningslistan',\n",
        "    'Val av protokolljusterare',\n",
        "    'Sammanträdets laglighet och beslutförhet',\n",
        "    'Sammanträdets konstituerande',\n",
        "    'Kokouksen laillisuus ja päätösvaltaisuus',\n",
        "    'Kahden pöytäkirjantarkastajan valinta',\n",
        "    'Esityslistan hyväksyminen',\n",
        "    'Val av protokolljusterare och protokollförare', \n",
        "    'Beslutande', \n",
        "    'Sammanträdesuppgifter och deltagande', \n",
        "    'Kokoustiedot ja osallistujat', \n",
        "    'Vln:Beslutande', \n",
        "    'Päättäjät',\n",
        "]"
      ]
    },
    {
      "cell_type": "code",
      "execution_count": null,
      "metadata": {
        "id": "fn0y0M3NAenX"
      },
      "outputs": [],
      "source": [
        "# filter to only agenda items documents\n",
        "filtered_df = df[~df['rubrik'].isin(non_agenda_titles)]\n",
        "filtered_df = filtered_df[(filtered_df['parent_link'] != \"\") & (~filtered_df['section'].isin([\"\", \"§ 0\"]))]"
      ]
    },
    {
      "cell_type": "code",
      "execution_count": null,
      "metadata": {
        "colab": {
          "base_uri": "https://localhost:8080/",
          "height": 687
        },
        "id": "xRDKLeEqpfPg",
        "outputId": "db59b8f6-3826-4c82-97b4-fa4cdd7984c4"
      },
      "outputs": [],
      "source": [
        "filtered_df"
      ]
    },
    {
      "cell_type": "code",
      "execution_count": null,
      "metadata": {
        "colab": {
          "base_uri": "https://localhost:8080/",
          "height": 669
        },
        "id": "qz6W360USfR9",
        "outputId": "eb3968e4-73bd-4528-e048-44a9b9c3b421"
      },
      "outputs": [],
      "source": [
        "stadsfullmäktige_df = filtered_df[filtered_df['verksamhetsorgan'] == 'Stadsfullmäktige']\n",
        "stadsfullmäktige_df"
      ]
    },
    {
      "cell_type": "code",
      "execution_count": null,
      "metadata": {},
      "outputs": [],
      "source": []
    }
  ],
  "metadata": {
    "colab": {
      "provenance": []
    },
    "kernelspec": {
      "display_name": "Python 3",
      "name": "python3"
    },
    "language_info": {
      "codemirror_mode": {
        "name": "ipython",
        "version": 3
      },
      "file_extension": ".py",
      "mimetype": "text/x-python",
      "name": "python",
      "nbconvert_exporter": "python",
      "pygments_lexer": "ipython3",
      "version": "3.11.4"
    }
  },
  "nbformat": 4,
  "nbformat_minor": 0
}
