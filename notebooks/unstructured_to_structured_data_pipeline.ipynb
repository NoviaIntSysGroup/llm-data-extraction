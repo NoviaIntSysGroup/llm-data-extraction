{
  "cells": [
    {
      "cell_type": "markdown",
      "metadata": {
        "id": "HZ4yqT7jNxmX"
      },
      "source": [
        "# **Install and Import Libraries**"
      ]
    },
    {
      "cell_type": "markdown",
      "metadata": {},
      "source": [
        "> ##### **create .streamlit/secrets.toml file inside notebooks folder with following lines:**\n",
        "\n",
        "> ###### **OPENAI_API_KEY = \"<api_key>\"**\n"
      ]
    },
    {
      "cell_type": "code",
      "execution_count": null,
      "metadata": {
        "colab": {
          "base_uri": "https://localhost:8080/"
        },
        "id": "5pmbY9PC_2Xy",
        "outputId": "59740c8d-253c-415a-8438-a165ebe29e41"
      },
      "outputs": [],
      "source": [
        "%pip install -r ../requirements.txt"
      ]
    },
    {
      "cell_type": "code",
      "execution_count": 2,
      "metadata": {},
      "outputs": [],
      "source": [
        "%load_ext autoreload\n",
        "%autoreload 2"
      ]
    },
    {
      "cell_type": "code",
      "execution_count": 3,
      "metadata": {
        "id": "unywaH2INwbH"
      },
      "outputs": [],
      "source": [
        "import pandas as pd\n",
        "\n",
        "import sys\n",
        "sys.path.append('../src')\n",
        "from data_pipeline import *"
      ]
    },
    {
      "cell_type": "markdown",
      "metadata": {
        "id": "pu8EcDam_3Ep"
      },
      "source": [
        "# **1. Scrape Website**"
      ]
    },
    {
      "cell_type": "code",
      "execution_count": null,
      "metadata": {
        "id": "AlHo5ej5TaUU"
      },
      "outputs": [],
      "source": [
        "df = scrape_website()"
      ]
    },
    {
      "cell_type": "code",
      "execution_count": null,
      "metadata": {},
      "outputs": [],
      "source": [
        "df"
      ]
    },
    {
      "cell_type": "markdown",
      "metadata": {
        "id": "Q6G87msiASLI"
      },
      "source": [
        "# **2. Download all PDFs from links**"
      ]
    },
    {
      "cell_type": "code",
      "execution_count": null,
      "metadata": {
        "id": "qhezoz7hKvK0"
      },
      "outputs": [],
      "source": [
        "df = download_documents()"
      ]
    },
    {
      "cell_type": "code",
      "execution_count": null,
      "metadata": {},
      "outputs": [],
      "source": [
        "df"
      ]
    },
    {
      "cell_type": "markdown",
      "metadata": {
        "id": "fOGZDiTjZ-GY"
      },
      "source": [
        "# **4. Extract HTML from PDFs**"
      ]
    },
    {
      "cell_type": "code",
      "execution_count": null,
      "metadata": {
        "colab": {
          "base_uri": "https://localhost:8080/"
        },
        "id": "U6bmCFGjZ9kK",
        "outputId": "a272e77a-6349-4024-f638-404f0a014c11"
      },
      "outputs": [],
      "source": [
        "convert_pdf_to_html()"
      ]
    },
    {
      "cell_type": "markdown",
      "metadata": {
        "id": "V5oRI3w_NQ4v"
      },
      "source": [
        "# **4. Extract Meeting Metadata from PDF with LLM**"
      ]
    },
    {
      "cell_type": "code",
      "execution_count": null,
      "metadata": {
        "id": "_2W9SWakWzP2"
      },
      "outputs": [],
      "source": [
        "df = extract_meeting_metadata()"
      ]
    },
    {
      "cell_type": "code",
      "execution_count": null,
      "metadata": {},
      "outputs": [],
      "source": [
        "df"
      ]
    },
    {
      "cell_type": "markdown",
      "metadata": {
        "id": "35G0VQUR_Mcw"
      },
      "source": [
        "# **5. Extract Proposals and Decisions**"
      ]
    },
    {
      "cell_type": "markdown",
      "metadata": {},
      "source": [
        "### still experimenting"
      ]
    },
    {
      "cell_type": "code",
      "execution_count": null,
      "metadata": {
        "id": "kVjUrjkSK8IS"
      },
      "outputs": [],
      "source": [
        "non_agenda_titles = [\n",
        "    'Sammanträdets laglighet och beslutsförhet',\n",
        "    'Godkännande av föredragningslistan',\n",
        "    'Val av protokolljusterare',\n",
        "    'Sammanträdets laglighet och beslutförhet',\n",
        "    'Sammanträdets konstituerande',\n",
        "    'Kokouksen laillisuus ja päätösvaltaisuus',\n",
        "    'Kahden pöytäkirjantarkastajan valinta',\n",
        "    'Esityslistan hyväksyminen',\n",
        "    'Val av protokolljusterare och protokollförare'\n",
        "]"
      ]
    },
    {
      "cell_type": "code",
      "execution_count": null,
      "metadata": {
        "id": "fn0y0M3NAenX"
      },
      "outputs": [],
      "source": [
        "# filter to only agenda items documents\n",
        "filtered_df = df[~df['rubrik'].isin(['Beslutande', 'Sammanträdesuppgifter och deltagande', 'Kokoustiedot ja osallistujat', 'Vln:Beslutande', 'Päättäjät', *non_agenda_titles])]\n",
        "filtered_df = filtered_df[(filtered_df['parent_link'] == \"\") & (~filtered_df['section'].isin([\"\", \"§ 0\"]))]"
      ]
    },
    {
      "cell_type": "code",
      "execution_count": null,
      "metadata": {
        "colab": {
          "base_uri": "https://localhost:8080/",
          "height": 687
        },
        "id": "xRDKLeEqpfPg",
        "outputId": "db59b8f6-3826-4c82-97b4-fa4cdd7984c4"
      },
      "outputs": [],
      "source": [
        "filtered_df"
      ]
    },
    {
      "cell_type": "code",
      "execution_count": null,
      "metadata": {
        "colab": {
          "base_uri": "https://localhost:8080/",
          "height": 669
        },
        "id": "qz6W360USfR9",
        "outputId": "eb3968e4-73bd-4528-e048-44a9b9c3b421"
      },
      "outputs": [],
      "source": [
        "stadsfullmäktige_df = filtered_df[filtered_df['verksamhetsorgan'] == 'Stadsfullmäktige']\n",
        "stadsfullmäktige_df"
      ]
    },
    {
      "cell_type": "code",
      "execution_count": null,
      "metadata": {
        "colab": {
          "base_uri": "https://localhost:8080/"
        },
        "id": "fvw2VSH_g-lL",
        "outputId": "d377a5a5-d74b-4a41-9cad-147068db301a"
      },
      "outputs": [],
      "source": [
        "df.verksamhetsorgan.unique()"
      ]
    },
    {
      "cell_type": "code",
      "execution_count": null,
      "metadata": {
        "colab": {
          "base_uri": "https://localhost:8080/"
        },
        "id": "wKvbUG96HpmU",
        "outputId": "dccf1453-6ba5-4baf-d700-a4c55d27e7d7"
      },
      "outputs": [],
      "source": [
        "import fitz\n",
        "import docx\n",
        "from pprint import pprint\n",
        "from tqdm import tqdm\n",
        "import re\n",
        "\n",
        "# get unique organs\n",
        "organs = df.verksamhetsorgan.unique()\n",
        "\n",
        "# Construct the alternation group for organ names\n",
        "organ_alternation_group = '|'.join(re.escape(organ) for organ in organs)\n",
        "\n",
        "# Assemble the full regex pattern\n",
        "reference_regex = rf'({organ_alternation_group}) (\\d{{1,2}}\\.\\d{{1,2}}\\.\\d{{4}}),? (§ \\d+|\\d+ §)'\n",
        "\n",
        "\n",
        "# Compile the regex pattern\n",
        "reference_compiled_regex = re.compile(reference_regex)\n",
        "\n",
        "print(reference_compiled_regex)\n",
        "\n",
        "\n",
        "for index, row in stadsfullmäktige_df.iterrows():\n",
        "  date = row['meeting_date'].replace('.', r'\\.')\n",
        "  match_section = rf\"(?:(?:{row['verksamhetsorgan']} {date},? (?:{row['section']}|{row['section'].replace('§','').strip()} §)))(?:(?!(?:{row['verksamhetsorgan']} {date},? (?:{row['section']}|{row['section'].replace('§','').strip()} §))).)*$\"\n",
        "  filepath = f'/content/drive/MyDrive/all_protocols/protocols/{row[\"doc_name\"]}'\n",
        "  print(match_section)\n",
        "  print(row['doc_link'], row['verksamhetsorgan'], row['meeting_date'], row['section'])\n",
        "  try:\n",
        "    with fitz.open(filepath) as doc:\n",
        "      text = \"\".join(page.get_text(\"text\", flags=~fitz.TEXT_PRESERVE_IMAGES) for page in doc)\n",
        "  except:\n",
        "    doc = docx.Document(filepath)\n",
        "    text = '\\n'.join(para.text for para in doc.paragraphs)\n",
        "\n",
        "  matches = reference_compiled_regex.findall(text)\n",
        "  print(\"\\n\".join(set([match for match in [\" \".join(match) for match in matches]])))\n",
        "  print(\"-\"*100)\n",
        "\n",
        "  # Find the match\n",
        "  match = re.search(match_section, text, re.DOTALL)\n",
        "\n",
        "  if match:\n",
        "      print(\"Captured Text:\", match.group(0))\n",
        "  # print(text)\n",
        "  print(\"=\"*100)"
      ]
    }
  ],
  "metadata": {
    "colab": {
      "provenance": []
    },
    "kernelspec": {
      "display_name": "Python 3",
      "name": "python3"
    },
    "language_info": {
      "codemirror_mode": {
        "name": "ipython",
        "version": 3
      },
      "file_extension": ".py",
      "mimetype": "text/x-python",
      "name": "python",
      "nbconvert_exporter": "python",
      "pygments_lexer": "ipython3",
      "version": "3.11.4"
    }
  },
  "nbformat": 4,
  "nbformat_minor": 0
}
