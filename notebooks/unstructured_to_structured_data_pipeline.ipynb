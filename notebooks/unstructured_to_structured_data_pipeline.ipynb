{
  "cells": [
    {
      "cell_type": "markdown",
      "metadata": {
        "id": "HZ4yqT7jNxmX"
      },
      "source": [
        "# **Install and Import Libraries**"
      ]
    },
    {
      "cell_type": "markdown",
      "metadata": {},
      "source": [
        "> ##### **Add the OpenAI API key in config/secrets.env file as follows:**\n",
        "\n",
        "> ###### **OPENAI_API_KEY = \"<api_key>\"**\n"
      ]
    },
    {
      "cell_type": "code",
      "execution_count": null,
      "metadata": {},
      "outputs": [],
      "source": [
        "%load_ext autoreload\n",
        "%autoreload 2"
      ]
    },
    {
      "cell_type": "code",
      "execution_count": null,
      "metadata": {
        "id": "unywaH2INwbH"
      },
      "outputs": [],
      "source": [
        "import pandas as pd\n",
        "from dotenv import load_dotenv\n",
        "\n",
        "# load config\n",
        "load_dotenv(\"../config/config.env\")\n",
        "\n",
        "# load secrets\n",
        "load_dotenv(\"../config/secrets.env\")\n",
        "\n",
        "from data_pipeline import *"
      ]
    },
    {
      "cell_type": "markdown",
      "metadata": {
        "id": "pu8EcDam_3Ep"
      },
      "source": [
        "# **1. Scrape Website**"
      ]
    },
    {
      "cell_type": "code",
      "execution_count": null,
      "metadata": {
        "id": "AlHo5ej5TaUU"
      },
      "outputs": [],
      "source": [
        "df = scrape_website()"
      ]
    },
    {
      "cell_type": "code",
      "execution_count": null,
      "metadata": {},
      "outputs": [],
      "source": [
        "df"
      ]
    },
    {
      "cell_type": "markdown",
      "metadata": {
        "id": "Q6G87msiASLI"
      },
      "source": [
        "# **2. Download all PDFs from links**"
      ]
    },
    {
      "cell_type": "code",
      "execution_count": null,
      "metadata": {
        "id": "qhezoz7hKvK0"
      },
      "outputs": [],
      "source": [
        "df = download_documents()"
      ]
    },
    {
      "cell_type": "code",
      "execution_count": null,
      "metadata": {},
      "outputs": [],
      "source": [
        "df"
      ]
    },
    {
      "cell_type": "markdown",
      "metadata": {
        "id": "fOGZDiTjZ-GY"
      },
      "source": [
        "# **3. Extract HTML from PDFs**"
      ]
    },
    {
      "cell_type": "code",
      "execution_count": null,
      "metadata": {
        "colab": {
          "base_uri": "https://localhost:8080/"
        },
        "id": "U6bmCFGjZ9kK",
        "outputId": "a272e77a-6349-4024-f638-404f0a014c11"
      },
      "outputs": [],
      "source": [
        "convert_pdf_to_html()"
      ]
    },
    {
      "cell_type": "markdown",
      "metadata": {
        "id": "V5oRI3w_NQ4v"
      },
      "source": [
        "# **4. Extract Meeting Metadata from PDF with LLM**"
      ]
    },
    {
      "cell_type": "code",
      "execution_count": null,
      "metadata": {
        "id": "_2W9SWakWzP2"
      },
      "outputs": [],
      "source": [
        "df = extract_meeting_metadata()"
      ]
    },
    {
      "cell_type": "code",
      "execution_count": null,
      "metadata": {},
      "outputs": [],
      "source": [
        "df"
      ]
    },
    {
      "cell_type": "markdown",
      "metadata": {
        "id": "35G0VQUR_Mcw"
      },
      "source": [
        "# **5. Extract Proposals and Decisions**"
      ]
    },
    {
      "cell_type": "markdown",
      "metadata": {},
      "source": [
        "## still not working as expected"
      ]
    },
    {
      "cell_type": "code",
      "execution_count": null,
      "metadata": {},
      "outputs": [],
      "source": [
        "df = extract_meeting_agenda()"
      ]
    }
  ],
  "metadata": {
    "colab": {
      "provenance": []
    },
    "kernelspec": {
      "display_name": "Python 3",
      "name": "python3"
    },
    "language_info": {
      "codemirror_mode": {
        "name": "ipython",
        "version": 3
      },
      "file_extension": ".py",
      "mimetype": "text/x-python",
      "name": "python",
      "nbconvert_exporter": "python",
      "pygments_lexer": "ipython3",
      "version": "3.11.4"
    }
  },
  "nbformat": 4,
  "nbformat_minor": 0
}
