{
  "cells": [
    {
      "cell_type": "markdown",
      "metadata": {
        "id": "HZ4yqT7jNxmX"
      },
      "source": [
        "# **Install and Import Libraries**"
      ]
    },
    {
      "cell_type": "markdown",
      "metadata": {},
      "source": [
        "> ##### **Add the OpenAI API key in config/secrets.env file as follows:**\n",
        "\n",
        "> ###### **OPENAI_API_KEY = \"<api_key>\"**\n"
      ]
    },
    {
      "cell_type": "code",
      "execution_count": null,
      "metadata": {},
      "outputs": [],
      "source": [
        "%load_ext autoreload\n",
        "%autoreload 2"
      ]
    },
    {
      "cell_type": "code",
      "execution_count": null,
      "metadata": {
        "id": "unywaH2INwbH"
      },
      "outputs": [],
      "source": [
        "import pandas as pd\n",
        "from dotenv import load_dotenv\n",
        "import os\n",
        "import json\n",
        "from neo4j import GraphDatabase\n",
        "\n",
        "# load config\n",
        "load_dotenv(\"../config/config.env\")\n",
        "\n",
        "# load secrets\n",
        "load_dotenv(\"../config/secrets.env\")\n",
        "\n",
        "from data_pipeline import *"
      ]
    },
    {
      "cell_type": "markdown",
      "metadata": {
        "id": "pu8EcDam_3Ep"
      },
      "source": [
        "# **1. Scrape Website**"
      ]
    },
    {
      "cell_type": "code",
      "execution_count": null,
      "metadata": {
        "id": "AlHo5ej5TaUU"
      },
      "outputs": [],
      "source": [
        "df = scrape_website()"
      ]
    },
    {
      "cell_type": "code",
      "execution_count": null,
      "metadata": {},
      "outputs": [],
      "source": [
        "df"
      ]
    },
    {
      "cell_type": "markdown",
      "metadata": {
        "id": "Q6G87msiASLI"
      },
      "source": [
        "# **2. Download all PDFs from links**"
      ]
    },
    {
      "cell_type": "code",
      "execution_count": null,
      "metadata": {
        "id": "qhezoz7hKvK0"
      },
      "outputs": [],
      "source": [
        "df = download_documents()"
      ]
    },
    {
      "cell_type": "code",
      "execution_count": null,
      "metadata": {},
      "outputs": [],
      "source": [
        "df"
      ]
    },
    {
      "cell_type": "markdown",
      "metadata": {
        "id": "fOGZDiTjZ-GY"
      },
      "source": [
        "# **3. Extract HTML from PDFs**"
      ]
    },
    {
      "cell_type": "code",
      "execution_count": null,
      "metadata": {
        "colab": {
          "base_uri": "https://localhost:8080/"
        },
        "id": "U6bmCFGjZ9kK",
        "outputId": "a272e77a-6349-4024-f638-404f0a014c11"
      },
      "outputs": [],
      "source": [
        "convert_pdf_to_html()"
      ]
    },
    {
      "cell_type": "markdown",
      "metadata": {
        "id": "V5oRI3w_NQ4v"
      },
      "source": [
        "# **4. Extract Meeting Metadata from PDF with LLM**"
      ]
    },
    {
      "cell_type": "code",
      "execution_count": null,
      "metadata": {
        "id": "_2W9SWakWzP2"
      },
      "outputs": [],
      "source": [
        "df = extract_meeting_metadata()"
      ]
    },
    {
      "cell_type": "code",
      "execution_count": null,
      "metadata": {},
      "outputs": [],
      "source": [
        "df"
      ]
    },
    {
      "cell_type": "markdown",
      "metadata": {
        "id": "35G0VQUR_Mcw"
      },
      "source": [
        "# **5. Extract Proposals and Decisions**"
      ]
    },
    {
      "cell_type": "markdown",
      "metadata": {},
      "source": [
        "## still not working as expected"
      ]
    },
    {
      "cell_type": "code",
      "execution_count": null,
      "metadata": {},
      "outputs": [],
      "source": [
        "df = extract_meeting_agenda(10)"
      ]
    },
    {
      "cell_type": "markdown",
      "metadata": {},
      "source": [
        "# **6. Export JSON**"
      ]
    },
    {
      "cell_type": "code",
      "execution_count": null,
      "metadata": {},
      "outputs": [],
      "source": [
        "def construct_individual_json(df):\n",
        "    \"\"\"\n",
        "    Constructs the individual json files for each meeting item and meeting metadata\n",
        "    \"\"\"\n",
        "    for index, row in df.iterrows():\n",
        "        # create the path to the save the json files\n",
        "        save_path = os.path.join(os.getenv(\"EXTRACTED_JSON_PATH\"), row['verksamhetsorgan'], row['meeting_date'], row['doc_name'].split(\".\")[0])\n",
        "\n",
        "        if row['meeting_end_time'] != \"\":\n",
        "\n",
        "            # ensure that the path exists\n",
        "            os.makedirs(os.path.dirname(save_path), exist_ok=True)\n",
        "\n",
        "            # path to save the metadata json file\n",
        "            metadata_save_path = os.path.join(os.path.dirname(save_path), \"llm_meeting_metadata.json\")\n",
        "\n",
        "            json_data = f'''{{\n",
        "                    \"meetingDate\": \"{row['meeting_date']}\",\n",
        "                    \"startTime\": \"{row['meeting_time']}\",\n",
        "                    \"meetingReference\": \"{row['meeting_reference']}\",\n",
        "                    \"endTime\": \"{row['meeting_end_time']}\",\n",
        "                    \"meetingPlace\": \"{row['meeting_place']}\",\n",
        "                    \"members\": {row['members']},\n",
        "                    \"substitutes\": {row['substitutes']},\n",
        "                    \"additionalAttendees\": {row['additional_attendees']},\n",
        "                    \"protocolSignatories\": {row['protocol_signatories']},\n",
        "                    \"adjustedBy\": {row['protocol_adjusters']},\n",
        "                    \"adjustmentDate\": \"{row['protocol_adjustment_date']}\",\n",
        "                    \"meetingItems\": [] }}''' # meeting items is added when constructing the aggregate JSON file\n",
        "\n",
        "            json_data = json.dumps(json.loads(json_data), indent=4, ensure_ascii=False)\n",
        "            # save the metadata json file\n",
        "            with open(metadata_save_path, \"w\") as f:\n",
        "                f.write(json_data)\n",
        "                \n",
        "        elif row['agenda_metadata'] != \"\":\n",
        "            # ensure that the path exists\n",
        "            os.makedirs(save_path, exist_ok=True)\n",
        "\n",
        "            # path to save the meeting item json file\n",
        "            item_save_path = os.path.join(save_path, \"llm_meeting_item.json\")\n",
        "\n",
        "            item = json.loads(row['agenda_metadata'])\n",
        "            item['rubrik'] = row['rubrik']\n",
        "            item['section'] = row['section']\n",
        "\n",
        "            # get all the atachments of the row based on parent link\n",
        "            attachments = df[df['parent_link'] == row['doc_link']]\n",
        "\n",
        "            # add the attachments to the item\n",
        "            item['attachments'] = []\n",
        "            for index, attachment in attachments.iterrows():\n",
        "                item['attachments'].append({\n",
        "                    \"rubrik\": attachment['rubrik'],\n",
        "                    \"link\": attachment['doc_link']\n",
        "                })\n",
        "            # save the meeting item json file\n",
        "            with open(item_save_path, \"w\") as f:\n",
        "                f.write(json.dumps(item, indent=4, ensure_ascii=False))"
      ]
    },
    {
      "cell_type": "code",
      "execution_count": null,
      "metadata": {},
      "outputs": [],
      "source": [
        "df = pd.read_csv(\"../data/metadata.csv\", index_col=0)\n",
        "df.fillna(\"\", inplace=True)\n",
        "\n",
        "construct_individual_json(df)"
      ]
    },
    {
      "cell_type": "code",
      "execution_count": null,
      "metadata": {},
      "outputs": [],
      "source": [
        "def construct_aggregate_json(extracted_json_path, construct_from = \"llm\"): # construct_from = \"llm\" or \"manual\"\n",
        "    \"\"\"\n",
        "    Constructs a single JSON out of all the meeting metadata and items\n",
        "    \"\"\"\n",
        "    aggregate_json = {}\n",
        "    aggregate_json['verksamhetsorgan'] = []\n",
        "    if not os.path.exists(extracted_json_path):\n",
        "        print(\"Extracted JSON path does not exist\")\n",
        "        return\n",
        "    for organ in os.scandir(extracted_json_path):\n",
        "        if not organ.is_dir():\n",
        "            continue\n",
        "        aggregate_meeting = []\n",
        "        for meeting in os.scandir(organ.path):\n",
        "            metadata_path = os.path.join(meeting.path, f\"{construct_from}_meeting_metadata.json\")\n",
        "            if os.path.exists(metadata_path):\n",
        "                with open(metadata_path, \"r\") as f:\n",
        "                    metadata = json.load(f)\n",
        "                for item in os.scandir(meeting.path):\n",
        "                    if item.is_dir():\n",
        "                        item_path = os.path.join(item.path, f\"{construct_from}_meeting_item.json\")\n",
        "                        if os.path.exists(item_path):\n",
        "                            with open(item_path, \"r\") as f:\n",
        "                                item = json.load(f)\n",
        "                            metadata['meetingItems'].append(item)\n",
        "                aggregate_meeting.append(metadata)\n",
        "        aggregate_json['verksamhetsorgan'].append({\n",
        "            \"name\": organ.name,\n",
        "            \"meetings\": aggregate_meeting\n",
        "        })\n",
        "\n",
        "    with open(os.path.join(extracted_json_path, f\"{construct_from}_aggregate_data.json\"), \"w\") as f:\n",
        "        f.write(json.dumps(aggregate_json, indent=4, ensure_ascii=False))"
      ]
    },
    {
      "cell_type": "code",
      "execution_count": null,
      "metadata": {},
      "outputs": [],
      "source": [
        "construct_aggregate_json(os.getenv(\"EXTRACTED_JSON_PATH\"), construct_from = \"llm\") # construct_from = \"llm\" or \"manual\""
      ]
    },
    {
      "cell_type": "code",
      "execution_count": null,
      "metadata": {},
      "outputs": [],
      "source": [
        "\n",
        "# sanity check for number of folders created. should correspond to number of meetings with metadata extracted with llm\n",
        "import glob\n",
        "len(glob.glob(os.getenv(\"EXTRACTED_JSON_PATH\") + \"/*/*/*\"))"
      ]
    },
    {
      "cell_type": "markdown",
      "metadata": {},
      "source": [
        "# **7. Create a Knowledge Graph from JSON**"
      ]
    },
    {
      "cell_type": "code",
      "execution_count": null,
      "metadata": {},
      "outputs": [],
      "source": [
        "# Function to execute Cypher queries\n",
        "def execute_cypher_queries(driver, data):\n",
        "    with driver.session() as session:\n",
        "        for organ in data.get(\"verksamhetsorgan\", []):\n",
        "            # Merge Organ\n",
        "            session.run(\"\"\"\n",
        "                MERGE (o:Organ {name: $name})\n",
        "            \"\"\", name=organ.get(\"name\", \"\"))\n",
        "\n",
        "            # Process meetings\n",
        "            for meeting in organ.get(\"meetings\", []):\n",
        "                # Merge Meeting\n",
        "                meeting_id = session.run(\"\"\"\n",
        "                    MERGE (m:Meeting {\n",
        "                      meetingDate: $meetingDate,\n",
        "                      startTime: $startTime,\n",
        "                      meetingReference: $meetingReference,\n",
        "                      endTime: $endTime,\n",
        "                      meetingPlace: $meetingPlace\n",
        "                    })\n",
        "                    WITH m\n",
        "                    MATCH (o:Organ {name: $organName})\n",
        "                    MERGE (o)-[:HOSTED]->(m)\n",
        "                    RETURN id(m)\n",
        "                \"\"\", meetingDate=meeting.get(\"meetingDate\", \"\"),\n",
        "                     startTime=meeting.get(\"startTime\", \"\"),\n",
        "                     meetingReference=meeting.get(\"meetingReference\", \"\"),\n",
        "                     endTime=meeting.get(\"endTime\", \"\"),\n",
        "                     meetingPlace=meeting.get(\"meetingPlace\", \"\"),\n",
        "                     organName=organ.get(\"name\", \"\")).single()[0]\n",
        "\n",
        "                # # Link Organ to Meeting\n",
        "                # session.run(\"\"\"\n",
        "                #     MATCH (o:Organ {name: $organName})\n",
        "                #     WITH o\n",
        "                #     MATCH (m:Meeting) WHERE id(m) = $meetingId\n",
        "                #     WITH o, m\n",
        "                #     MERGE (o)-[:HOSTED]->(m)\n",
        "                # \"\"\", organName=organ.get(\"name\", \"\"), meetingId=meeting_id)\n",
        "\n",
        "                # Process Members\n",
        "                for person in meeting.get(\"members\", []):\n",
        "                    session.run(\"\"\"\n",
        "                        MERGE (p:Person {name: $name})\n",
        "                        WITH p\n",
        "                        MATCH (m:Meeting) WHERE id(m) = $meetingId\n",
        "                        MERGE (p)-[:ATTENDED {\n",
        "                            role: $role, \n",
        "                            attendance: coalesce($attendance, '')\n",
        "                        }]->(m)\n",
        "                    \"\"\", name=person.get(\"name\", \"\"),\n",
        "                         role=person.get(\"role\", \"\"),\n",
        "                         attendance=person.get(\"attendance\", \"\"),\n",
        "                         meetingId=meeting_id)\n",
        "\n",
        "                # Process Substitutes\n",
        "                for substitute in meeting.get(\"substitutes\", []):\n",
        "                    session.run(\"\"\"\n",
        "                        // Create or find the substitute node and connect to the meeting\n",
        "                        MERGE (s:Person {name: $name})\n",
        "                        WITH s\n",
        "                        MATCH (m:Meeting) WHERE id(m) = $meetingId\n",
        "                        MERGE (s)-[:SUBSTITUTE_ATTENDEE]->(m)\n",
        "                        WITH s\n",
        "                        // Only proceed if substitutedFor is not an empty string\n",
        "                        WHERE $substitutedFor <> ''\n",
        "                        // Create or find the substituted person node and create a relationship\n",
        "                        MERGE (substituted:Person {name: $substitutedFor})\n",
        "                        MERGE (s)-[:SUBSTITUTED_FOR]->(substituted)\n",
        "                    \"\"\", name=substitute.get(\"name\", \"\"),\n",
        "                        substitutedFor=substitute.get(\"substitutedFor\", \"\"),\n",
        "                        meetingId=meeting_id)\n",
        "\n",
        "                # Process Additional Attendees\n",
        "                for attendee in meeting.get(\"additionalAttendees\", []):\n",
        "                    session.run(\"\"\"\n",
        "                        MERGE (a:Person {name: $name})\n",
        "                        WITH a\n",
        "                        MATCH (m:Meeting) WHERE id(m) = $meetingId\n",
        "                        MERGE (a)-[:ADDITIONAL_ATTENDEE {\n",
        "                            role: coalesce($role, '')\n",
        "                        }]->(m)\n",
        "                    \"\"\", name=attendee.get(\"name\", \"\"),\n",
        "                         role=attendee.get(\"role\", \"\"),\n",
        "                         meetingId=meeting_id)\n",
        "\n",
        "                # Process Meeting Items\n",
        "                for item in meeting.get(\"meetingItems\", []):\n",
        "                    item_id = session.run(\"\"\"\n",
        "                        MERGE (i:MeetingItem {\n",
        "                            rubrik: coalesce($rubrik, ''),\n",
        "                            section: coalesce($section, ''),\n",
        "                            protocolContext: coalesce($protocolContext, ''),\n",
        "                            beslut: coalesce($beslut, '')\n",
        "                        })\n",
        "                        RETURN id(i)\n",
        "                    \"\"\", rubrik=item.get(\"rubrik\", \"\"),\n",
        "                         section=item.get(\"section\", \"\"),\n",
        "                         protocolContext=item.get(\"protocolContext\", \"\"),\n",
        "                         beslut=item.get(\"beslut\", \"\"),\n",
        "                         meetingId=meeting_id,\n",
        "                         ).single()[0]\n",
        "\n",
        "                    # Link Meeting to Meeting Item\n",
        "                    session.run(\"\"\"\n",
        "                        MATCH (m:Meeting) WHERE id(m) = $meetingId\n",
        "                        MATCH (i:MeetingItem) WHERE id(i) = $itemId\n",
        "                        MERGE (m)-[:HAS_ITEM]->(i)\n",
        "                    \"\"\", meetingId=meeting_id, itemId=item_id)\n",
        "\n",
        "                    # Process Preparers and Proposers similarly inside Meeting Items\n",
        "                    for preparer in item.get(\"preparers\", []):\n",
        "                        session.run(\"\"\"\n",
        "                            MERGE (p:Person {name: coalesce($name, '')})\n",
        "                            WITH p\n",
        "                            MATCH (i:MeetingItem) WHERE id(i) = $itemId\n",
        "                            MERGE (p)-[:PREPARED]->(i)\n",
        "                        \"\"\", name=preparer.get(\"name\", \"\"),\n",
        "                             itemId=item_id)\n",
        "                        \n",
        "                    for proposer in item.get(\"proposers\", []):\n",
        "                        session.run(\"\"\"\n",
        "                            MERGE (p:Person {name: coalesce($name, '')})\n",
        "                            WITH p\n",
        "                            MATCH (i:MeetingItem) WHERE id(i) = $itemId\n",
        "                            MERGE (p)-[:PROPOSED]->(i)\n",
        "                        \"\"\", name=proposer.get(\"name\", \"\"),\n",
        "                             itemId=item_id)\n",
        "                        \n",
        "                    # Process Signatories\n",
        "                    for signatory in item.get(\"signatories\", []):\n",
        "                        session.run(\"\"\"\n",
        "                            MERGE (s:Person {name: coalesce($name, '')})\n",
        "                            WITH s\n",
        "                            MATCH (i:MeetingItem) WHERE id(i) = $itemId\n",
        "                            MERGE (s)-[:SIGNED]->(i)\n",
        "                        \"\"\", name=signatory.get(\"name\", \"\"),\n",
        "                             itemId=item_id)\n",
        "                        \n",
        "                    # Process Adjusters\n",
        "                    for adjuster in item.get(\"adjusters\", []):\n",
        "                        session.run(\"\"\"\n",
        "                            MERGE (a:Person {name: coalesce($name, '')})\n",
        "                            WITH a\n",
        "                            MATCH (i:MeetingItem) WHERE id(i) = $itemId\n",
        "                            MERGE (a)-[:ADJUSTED]->(i)\n",
        "                        \"\"\", name=adjuster.get(\"name\", \"\"),\n",
        "                             itemId=item_id)\n",
        "                        \n",
        "                    # Process Meeting Item Attachments\n",
        "                    for attachment in item.get(\"attachments\", []):\n",
        "                        session.run(\"\"\"\n",
        "                            MERGE (a:Attachment {link: coalesce($link, ''), rubrik: coalesce($rubrik, '')})\n",
        "                            WITH a\n",
        "                            MATCH (i:MeetingItem) WHERE id(i) = $itemId\n",
        "                            MERGE (i)-[:HAS_ATTACHMENT]->(a)\n",
        "                        \"\"\", \n",
        "                        link=attachment.get(\"link\", \"\"),\n",
        "                        rubrik=attachment.get(\"rubrik\", \"\"),\n",
        "                        itemId=item_id)                        \n",
        "\n",
        "def create_knowledge_graph(constuct_from = \"llm\"): # construct_from = \"llm\" or \"manual\"\n",
        "    # Load JSON data\n",
        "    aggregate_json_path = os.path.join(os.getenv(\"EXTRACTED_JSON_PATH\"), f\"{constuct_from}_aggregate_data.json\")\n",
        "\n",
        "    with open(aggregate_json_path, \"r\") as f:\n",
        "        data = json.load(f)\n",
        "\n",
        "    # Neo4j connection details\n",
        "    uri = os.getenv(\"NEO4J_URI\")\n",
        "    username = os.getenv(\"NEO4J_USERNAME\")\n",
        "    password = os.getenv(\"NEO4J_PASSWORD\")\n",
        "\n",
        "    # Connect to Neo4j\n",
        "    driver = GraphDatabase.driver(uri, auth=(username, password))\n",
        "\n",
        "    # Execute Cypher queries\n",
        "    execute_cypher_queries(driver, data)\n",
        "\n",
        "    # Close the driver connection\n",
        "    driver.close()"
      ]
    },
    {
      "cell_type": "code",
      "execution_count": null,
      "metadata": {},
      "outputs": [],
      "source": [
        "create_knowledge_graph(constuct_from = \"llm\") # construct_from = \"llm\" or \"manual\""
      ]
    },
    {
      "cell_type": "markdown",
      "metadata": {},
      "source": [
        "## **8. Test Knowledge Graph Query with LLM**"
      ]
    },
    {
      "cell_type": "code",
      "execution_count": null,
      "metadata": {},
      "outputs": [],
      "source": [
        "from langchain.chat_models import ChatOpenAI\n",
        "from langchain.chains import GraphCypherQAChain\n",
        "from langchain.graphs import Neo4jGraph"
      ]
    },
    {
      "cell_type": "code",
      "execution_count": null,
      "metadata": {},
      "outputs": [],
      "source": [
        "graph = Neo4jGraph(\n",
        "    url=os.environ[\"NEO4J_URI\"], username=os.environ[\"NEO4J_USERNAME\"], password=os.environ[\"NEO4J_PASSWORD\"]\n",
        ")"
      ]
    },
    {
      "cell_type": "code",
      "execution_count": null,
      "metadata": {},
      "outputs": [],
      "source": [
        "graph.schema"
      ]
    },
    {
      "cell_type": "code",
      "execution_count": null,
      "metadata": {
        "notebookRunGroups": {
          "groupValue": "1"
        }
      },
      "outputs": [],
      "source": [
        "chain = GraphCypherQAChain.from_llm(\n",
        "    llm=ChatOpenAI(temperature=0, model='gpt-4-1106-preview'), graph=graph, verbose=True, validate_cypher=True, return_intermediate_steps=True\n",
        ")\n",
        "result = chain(\"what organs is Håkan Braskén associated with\")"
      ]
    },
    {
      "cell_type": "code",
      "execution_count": null,
      "metadata": {},
      "outputs": [],
      "source": [
        "result"
      ]
    }
  ],
  "metadata": {
    "colab": {
      "provenance": []
    },
    "kernelspec": {
      "display_name": "Python 3",
      "name": "python3"
    },
    "language_info": {
      "codemirror_mode": {
        "name": "ipython",
        "version": 3
      },
      "file_extension": ".py",
      "mimetype": "text/x-python",
      "name": "python",
      "nbconvert_exporter": "python",
      "pygments_lexer": "ipython3",
      "version": "3.11.4"
    }
  },
  "nbformat": 4,
  "nbformat_minor": 0
}
