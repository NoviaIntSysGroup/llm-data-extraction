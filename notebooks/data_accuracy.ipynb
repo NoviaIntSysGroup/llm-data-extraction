{
 "cells": [
  {
   "cell_type": "markdown",
   "metadata": {},
   "source": [
    "# **Test Data Extraction Accuracy**"
   ]
  },
  {
   "cell_type": "code",
   "execution_count": null,
   "metadata": {},
   "outputs": [],
   "source": [
    "%load_ext autoreload\n",
    "%autoreload 2"
   ]
  },
  {
   "cell_type": "markdown",
   "metadata": {},
   "source": [
    "### **1. Imports and Config**"
   ]
  },
  {
   "cell_type": "code",
   "execution_count": 19,
   "metadata": {},
   "outputs": [],
   "source": [
    "from data_pipeline.file_converter import *\n",
    "from data_pipeline import *"
   ]
  },
  {
   "cell_type": "code",
   "execution_count": null,
   "metadata": {},
   "outputs": [],
   "source": [
    "from dotenv import load_dotenv\n",
    "\n",
    "# load config\n",
    "load_dotenv(\"../config/config.env\")\n",
    "\n",
    "# load secrets\n",
    "load_dotenv(\"../config/secrets.env\")"
   ]
  },
  {
   "cell_type": "code",
   "execution_count": 4,
   "metadata": {},
   "outputs": [],
   "source": [
    "title_for_llm_experiment = \"Zero shot example\" # this will be used as title for the results of the LLM extraction\n",
    "add_ids_to_tags = True # adds unique id to html tags extracted from pdfs \n",
    "test_dir = \"..\\\\data\\\\test_pdfs\""
   ]
  },
  {
   "cell_type": "markdown",
   "metadata": {},
   "source": [
    "### **2. Load and Convert Data**"
   ]
  },
  {
   "cell_type": "code",
   "execution_count": null,
   "metadata": {},
   "outputs": [],
   "source": [
    "# get all filepaths from test_dir\n",
    "filepaths = get_documents_filepaths(test_dir)\n",
    "filepaths"
   ]
  },
  {
   "cell_type": "code",
   "execution_count": null,
   "metadata": {},
   "outputs": [],
   "source": [
    "# convert all files to xhtml and text\n",
    "convert_files(filepaths, output_type=\"xhtml\", overwrite=False, add_ids_to_tags=add_ids_to_tags)\n",
    "convert_files(filepaths, output_type=\"text\", overwrite=False)"
   ]
  },
  {
   "cell_type": "markdown",
   "metadata": {},
   "source": [
    "### **3. Extract Agenda Data With LLM**"
   ]
  },
  {
   "cell_type": "code",
   "execution_count": 7,
   "metadata": {},
   "outputs": [],
   "source": [
    "# import agenda json schema\n",
    "with open(os.getenv(\"AGENDA_JSON_SCHEMA_PATH\"), \"r\", encoding=\"utf-8\") as f:\n",
    "    json_schema = f.read()\n",
    "\n",
    "# import agenda prompt\n",
    "with open(os.getenv(\"AGENDA_EXTRACTION_PROMPT_PATH\"), \"r\", encoding=\"utf-8\") as f:\n",
    "    prompt = f.read()"
   ]
  },
  {
   "cell_type": "code",
   "execution_count": null,
   "metadata": {},
   "outputs": [],
   "source": [
    "# create batch file for agenda extraction\n",
    "create_batch_file(filepaths, prompt, json_schema, batch_file_path=os.getenv(\"BATCH_FILE_PATH\"), overwrite_batch_file=True)"
   ]
  },
  {
   "cell_type": "code",
   "execution_count": null,
   "metadata": {},
   "outputs": [],
   "source": [
    "batch_id = submit_batch_job(os.getenv(\"BATCH_FILE_PATH\"))"
   ]
  },
  {
   "cell_type": "code",
   "execution_count": null,
   "metadata": {},
   "outputs": [],
   "source": [
    "output_file_id = check_batch_status(batch_id)"
   ]
  },
  {
   "cell_type": "code",
   "execution_count": 12,
   "metadata": {},
   "outputs": [],
   "source": [
    "if output_file_id:\n",
    "    output_jsonl = retrieve_batch_output(output_file_id)\n",
    "else:\n",
    "    print(\"No output file id found, please check the batch status\")"
   ]
  },
  {
   "cell_type": "code",
   "execution_count": 14,
   "metadata": {},
   "outputs": [],
   "source": [
    "# Save output\n",
    "save_agenda_llm_batch_results(output_jsonl, filepaths, replace_ids=add_ids_to_tags)"
   ]
  },
  {
   "cell_type": "markdown",
   "metadata": {},
   "source": [
    "### **4. Evaluations**"
   ]
  },
  {
   "cell_type": "code",
   "execution_count": null,
   "metadata": {},
   "outputs": [],
   "source": [
    "results_path = '../data/temp/batch_results.json'\n",
    "\n",
    "average_results = process_results(filepaths, prompt, json_schema, title_for_llm_experiment, results_path)\n",
    "print(average_results)\n"
   ]
  },
  {
   "cell_type": "code",
   "execution_count": null,
   "metadata": {},
   "outputs": [],
   "source": [
    "results_path = '../data/temp/batch_results.json'\n",
    "visualize_results(results_path)\n"
   ]
  }
 ],
 "metadata": {
  "kernelspec": {
   "display_name": "llm-data-extraction",
   "language": "python",
   "name": "python3"
  },
  "language_info": {
   "codemirror_mode": {
    "name": "ipython",
    "version": 3
   },
   "file_extension": ".py",
   "mimetype": "text/x-python",
   "name": "python",
   "nbconvert_exporter": "python",
   "pygments_lexer": "ipython3",
   "version": "3.11.9"
  }
 },
 "nbformat": 4,
 "nbformat_minor": 2
}
